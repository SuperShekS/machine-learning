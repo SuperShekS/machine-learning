{
  "nbformat": 4,
  "nbformat_minor": 0,
  "metadata": {
    "colab": {
      "name": "Breast cancer.ipynb",
      "provenance": [],
      "collapsed_sections": [],
      "authorship_tag": "ABX9TyM45LflksUPmbt2LqBwRDe8",
      "include_colab_link": true
    },
    "kernelspec": {
      "name": "python3",
      "display_name": "Python 3"
    }
  },
  "cells": [
    {
      "cell_type": "markdown",
      "metadata": {
        "id": "view-in-github",
        "colab_type": "text"
      },
      "source": [
        "<a href=\"https://colab.research.google.com/github/SuperShekS/machine-learning/blob/main/Breast%20cancer%20classification.ipynb\" target=\"_parent\"><img src=\"https://colab.research.google.com/assets/colab-badge.svg\" alt=\"Open In Colab\"/></a>"
      ]
    },
    {
      "cell_type": "markdown",
      "metadata": {
        "id": "VJCTFkgkPm2I"
      },
      "source": [
        "## Breast cancer classification with Logistic Regression"
      ]
    },
    {
      "cell_type": "code",
      "metadata": {
        "id": "XJQru9TJlJSp"
      },
      "source": [
        "import tensorflow as tf\r\n",
        "from sklearn.datasets import load_breast_cancer"
      ],
      "execution_count": 1,
      "outputs": []
    },
    {
      "cell_type": "code",
      "metadata": {
        "id": "yjszkjV1lYvN"
      },
      "source": [
        "data = load_breast_cancer()"
      ],
      "execution_count": 4,
      "outputs": []
    },
    {
      "cell_type": "code",
      "metadata": {
        "colab": {
          "base_uri": "https://localhost:8080/"
        },
        "id": "Qfihhwufleq2",
        "outputId": "5223a579-ec99-40cf-b26a-5583d4e0e209"
      },
      "source": [
        "type(data)"
      ],
      "execution_count": 5,
      "outputs": [
        {
          "output_type": "execute_result",
          "data": {
            "text/plain": [
              "sklearn.utils.Bunch"
            ]
          },
          "metadata": {
            "tags": []
          },
          "execution_count": 5
        }
      ]
    },
    {
      "cell_type": "code",
      "metadata": {
        "colab": {
          "base_uri": "https://localhost:8080/"
        },
        "id": "kKJaNN2qlgU1",
        "outputId": "d859842b-df1c-4fe3-cf0a-7aa014c073a9"
      },
      "source": [
        "data.keys()"
      ],
      "execution_count": 6,
      "outputs": [
        {
          "output_type": "execute_result",
          "data": {
            "text/plain": [
              "dict_keys(['data', 'target', 'target_names', 'DESCR', 'feature_names', 'filename'])"
            ]
          },
          "metadata": {
            "tags": []
          },
          "execution_count": 6
        }
      ]
    },
    {
      "cell_type": "code",
      "metadata": {
        "colab": {
          "base_uri": "https://localhost:8080/"
        },
        "id": "oql0DB6olntd",
        "outputId": "17977805-a2af-4c6f-b05e-69daa9b9ca9f"
      },
      "source": [
        "data.data.shape"
      ],
      "execution_count": 8,
      "outputs": [
        {
          "output_type": "execute_result",
          "data": {
            "text/plain": [
              "(569, 30)"
            ]
          },
          "metadata": {
            "tags": []
          },
          "execution_count": 8
        }
      ]
    },
    {
      "cell_type": "code",
      "metadata": {
        "colab": {
          "base_uri": "https://localhost:8080/"
        },
        "id": "8hdTWFPwl1vt",
        "outputId": "a656886e-89c7-4df2-d250-6f83559a3c14"
      },
      "source": [
        "data.target"
      ],
      "execution_count": 9,
      "outputs": [
        {
          "output_type": "execute_result",
          "data": {
            "text/plain": [
              "array([0, 0, 0, 0, 0, 0, 0, 0, 0, 0, 0, 0, 0, 0, 0, 0, 0, 0, 0, 1, 1, 1,\n",
              "       0, 0, 0, 0, 0, 0, 0, 0, 0, 0, 0, 0, 0, 0, 0, 1, 0, 0, 0, 0, 0, 0,\n",
              "       0, 0, 1, 0, 1, 1, 1, 1, 1, 0, 0, 1, 0, 0, 1, 1, 1, 1, 0, 1, 0, 0,\n",
              "       1, 1, 1, 1, 0, 1, 0, 0, 1, 0, 1, 0, 0, 1, 1, 1, 0, 0, 1, 0, 0, 0,\n",
              "       1, 1, 1, 0, 1, 1, 0, 0, 1, 1, 1, 0, 0, 1, 1, 1, 1, 0, 1, 1, 0, 1,\n",
              "       1, 1, 1, 1, 1, 1, 1, 0, 0, 0, 1, 0, 0, 1, 1, 1, 0, 0, 1, 0, 1, 0,\n",
              "       0, 1, 0, 0, 1, 1, 0, 1, 1, 0, 1, 1, 1, 1, 0, 1, 1, 1, 1, 1, 1, 1,\n",
              "       1, 1, 0, 1, 1, 1, 1, 0, 0, 1, 0, 1, 1, 0, 0, 1, 1, 0, 0, 1, 1, 1,\n",
              "       1, 0, 1, 1, 0, 0, 0, 1, 0, 1, 0, 1, 1, 1, 0, 1, 1, 0, 0, 1, 0, 0,\n",
              "       0, 0, 1, 0, 0, 0, 1, 0, 1, 0, 1, 1, 0, 1, 0, 0, 0, 0, 1, 1, 0, 0,\n",
              "       1, 1, 1, 0, 1, 1, 1, 1, 1, 0, 0, 1, 1, 0, 1, 1, 0, 0, 1, 0, 1, 1,\n",
              "       1, 1, 0, 1, 1, 1, 1, 1, 0, 1, 0, 0, 0, 0, 0, 0, 0, 0, 0, 0, 0, 0,\n",
              "       0, 0, 1, 1, 1, 1, 1, 1, 0, 1, 0, 1, 1, 0, 1, 1, 0, 1, 0, 0, 1, 1,\n",
              "       1, 1, 1, 1, 1, 1, 1, 1, 1, 1, 1, 0, 1, 1, 0, 1, 0, 1, 1, 1, 1, 1,\n",
              "       1, 1, 1, 1, 1, 1, 1, 1, 1, 0, 1, 1, 1, 0, 1, 0, 1, 1, 1, 1, 0, 0,\n",
              "       0, 1, 1, 1, 1, 0, 1, 0, 1, 0, 1, 1, 1, 0, 1, 1, 1, 1, 1, 1, 1, 0,\n",
              "       0, 0, 1, 1, 1, 1, 1, 1, 1, 1, 1, 1, 1, 0, 0, 1, 0, 0, 0, 1, 0, 0,\n",
              "       1, 1, 1, 1, 1, 0, 1, 1, 1, 1, 1, 0, 1, 1, 1, 0, 1, 1, 0, 0, 1, 1,\n",
              "       1, 1, 1, 1, 0, 1, 1, 1, 1, 1, 1, 1, 0, 1, 1, 1, 1, 1, 0, 1, 1, 0,\n",
              "       1, 1, 1, 1, 1, 1, 1, 1, 1, 1, 1, 1, 0, 1, 0, 0, 1, 0, 1, 1, 1, 1,\n",
              "       1, 0, 1, 1, 0, 1, 0, 1, 1, 0, 1, 0, 1, 1, 1, 1, 1, 1, 1, 1, 0, 0,\n",
              "       1, 1, 1, 1, 1, 1, 0, 1, 1, 1, 1, 1, 1, 1, 1, 1, 1, 0, 1, 1, 1, 1,\n",
              "       1, 1, 1, 0, 1, 0, 1, 1, 0, 1, 1, 1, 1, 1, 0, 0, 1, 0, 1, 0, 1, 1,\n",
              "       1, 1, 1, 0, 1, 1, 0, 1, 0, 1, 0, 0, 1, 1, 1, 0, 1, 1, 1, 1, 1, 1,\n",
              "       1, 1, 1, 1, 1, 0, 1, 0, 0, 1, 1, 1, 1, 1, 1, 1, 1, 1, 1, 1, 1, 1,\n",
              "       1, 1, 1, 1, 1, 1, 1, 1, 1, 1, 1, 1, 0, 0, 0, 0, 0, 0, 1])"
            ]
          },
          "metadata": {
            "tags": []
          },
          "execution_count": 9
        }
      ]
    },
    {
      "cell_type": "code",
      "metadata": {
        "colab": {
          "base_uri": "https://localhost:8080/"
        },
        "id": "VUZodxMql_32",
        "outputId": "b149c74d-6545-4ec5-c7e1-2ffae9602883"
      },
      "source": [
        "data.target_names"
      ],
      "execution_count": 11,
      "outputs": [
        {
          "output_type": "execute_result",
          "data": {
            "text/plain": [
              "array(['malignant', 'benign'], dtype='<U9')"
            ]
          },
          "metadata": {
            "tags": []
          },
          "execution_count": 11
        }
      ]
    },
    {
      "cell_type": "code",
      "metadata": {
        "colab": {
          "base_uri": "https://localhost:8080/"
        },
        "id": "8L48CxUpmBi9",
        "outputId": "697b8211-5261-477c-e9db-68c34e4f7ee2"
      },
      "source": [
        "data.feature_names"
      ],
      "execution_count": 12,
      "outputs": [
        {
          "output_type": "execute_result",
          "data": {
            "text/plain": [
              "array(['mean radius', 'mean texture', 'mean perimeter', 'mean area',\n",
              "       'mean smoothness', 'mean compactness', 'mean concavity',\n",
              "       'mean concave points', 'mean symmetry', 'mean fractal dimension',\n",
              "       'radius error', 'texture error', 'perimeter error', 'area error',\n",
              "       'smoothness error', 'compactness error', 'concavity error',\n",
              "       'concave points error', 'symmetry error',\n",
              "       'fractal dimension error', 'worst radius', 'worst texture',\n",
              "       'worst perimeter', 'worst area', 'worst smoothness',\n",
              "       'worst compactness', 'worst concavity', 'worst concave points',\n",
              "       'worst symmetry', 'worst fractal dimension'], dtype='<U23')"
            ]
          },
          "metadata": {
            "tags": []
          },
          "execution_count": 12
        }
      ]
    },
    {
      "cell_type": "code",
      "metadata": {
        "id": "1GHWlPR0mwL9"
      },
      "source": [
        "from sklearn.model_selection import train_test_split\r\n",
        "\r\n",
        "X_train, X_test, y_train, y_test = train_test_split(data.data, data.target, test_size=0.33)\r\n",
        "N, D = X_train.shape"
      ],
      "execution_count": 15,
      "outputs": []
    },
    {
      "cell_type": "code",
      "metadata": {
        "id": "L_C9IBzPnj4E"
      },
      "source": [
        "from sklearn.preprocessing import StandardScaler\r\n",
        "\r\n",
        "scaler = StandardScaler()\r\n",
        "X_train = scaler.fit_transform(X_train)\r\n",
        "X_test = scaler.transform(X_test)"
      ],
      "execution_count": 16,
      "outputs": []
    },
    {
      "cell_type": "code",
      "metadata": {
        "colab": {
          "base_uri": "https://localhost:8080/"
        },
        "id": "YDSJPZtJpId7",
        "outputId": "2fa01d3a-52df-464d-de66-08185075f515"
      },
      "source": [
        "model = tf.keras.models.Sequential([\r\n",
        "        tf.keras.layers.Input(shape=(D,)),\r\n",
        "        tf.keras.layers.Dense(1, activation = 'sigmoid')\r\n",
        "])\r\n",
        "\r\n",
        "model.compile(optimizer = 'adam',\r\n",
        "                loss = 'binary_crossentropy',\r\n",
        "                metrics = ['accuracy'])\r\n",
        "\r\n",
        "\r\n",
        "r = model.fit(X_train, y_train, validation_data = (X_test, y_test), epochs = 100)\r\n",
        "\r\n",
        "print('Train score : ', model.evaluate(X_train, y_train))\r\n",
        "print('Test score : ', model.evaluate(X_test, y_test))"
      ],
      "execution_count": 22,
      "outputs": [
        {
          "output_type": "stream",
          "text": [
            "Epoch 1/100\n",
            "12/12 [==============================] - 1s 16ms/step - loss: 1.7677 - accuracy: 0.1908 - val_loss: 1.8259 - val_accuracy: 0.1543\n",
            "Epoch 2/100\n",
            "12/12 [==============================] - 0s 5ms/step - loss: 1.5210 - accuracy: 0.2126 - val_loss: 1.6767 - val_accuracy: 0.1596\n",
            "Epoch 3/100\n",
            "12/12 [==============================] - 0s 4ms/step - loss: 1.3911 - accuracy: 0.2482 - val_loss: 1.5325 - val_accuracy: 0.1862\n",
            "Epoch 4/100\n",
            "12/12 [==============================] - 0s 5ms/step - loss: 1.3259 - accuracy: 0.2439 - val_loss: 1.3950 - val_accuracy: 0.1968\n",
            "Epoch 5/100\n",
            "12/12 [==============================] - 0s 5ms/step - loss: 1.2126 - accuracy: 0.2551 - val_loss: 1.2683 - val_accuracy: 0.2181\n",
            "Epoch 6/100\n",
            "12/12 [==============================] - 0s 5ms/step - loss: 1.0594 - accuracy: 0.3195 - val_loss: 1.1513 - val_accuracy: 0.2394\n",
            "Epoch 7/100\n",
            "12/12 [==============================] - 0s 5ms/step - loss: 1.0014 - accuracy: 0.3410 - val_loss: 1.0427 - val_accuracy: 0.3032\n",
            "Epoch 8/100\n",
            "12/12 [==============================] - 0s 4ms/step - loss: 0.8441 - accuracy: 0.4288 - val_loss: 0.9477 - val_accuracy: 0.3404\n",
            "Epoch 9/100\n",
            "12/12 [==============================] - 0s 5ms/step - loss: 0.7931 - accuracy: 0.4546 - val_loss: 0.8619 - val_accuracy: 0.4202\n",
            "Epoch 10/100\n",
            "12/12 [==============================] - 0s 5ms/step - loss: 0.7499 - accuracy: 0.5221 - val_loss: 0.7845 - val_accuracy: 0.4894\n",
            "Epoch 11/100\n",
            "12/12 [==============================] - 0s 5ms/step - loss: 0.6725 - accuracy: 0.6027 - val_loss: 0.7187 - val_accuracy: 0.5532\n",
            "Epoch 12/100\n",
            "12/12 [==============================] - 0s 5ms/step - loss: 0.6267 - accuracy: 0.6423 - val_loss: 0.6601 - val_accuracy: 0.6330\n",
            "Epoch 13/100\n",
            "12/12 [==============================] - 0s 5ms/step - loss: 0.5515 - accuracy: 0.7171 - val_loss: 0.6085 - val_accuracy: 0.7181\n",
            "Epoch 14/100\n",
            "12/12 [==============================] - 0s 5ms/step - loss: 0.5552 - accuracy: 0.7184 - val_loss: 0.5642 - val_accuracy: 0.7500\n",
            "Epoch 15/100\n",
            "12/12 [==============================] - 0s 5ms/step - loss: 0.5226 - accuracy: 0.7547 - val_loss: 0.5258 - val_accuracy: 0.7766\n",
            "Epoch 16/100\n",
            "12/12 [==============================] - 0s 5ms/step - loss: 0.4837 - accuracy: 0.7920 - val_loss: 0.4915 - val_accuracy: 0.7979\n",
            "Epoch 17/100\n",
            "12/12 [==============================] - 0s 5ms/step - loss: 0.4373 - accuracy: 0.8425 - val_loss: 0.4612 - val_accuracy: 0.8032\n",
            "Epoch 18/100\n",
            "12/12 [==============================] - 0s 5ms/step - loss: 0.4423 - accuracy: 0.8381 - val_loss: 0.4349 - val_accuracy: 0.8191\n",
            "Epoch 19/100\n",
            "12/12 [==============================] - 0s 5ms/step - loss: 0.4128 - accuracy: 0.8649 - val_loss: 0.4121 - val_accuracy: 0.8351\n",
            "Epoch 20/100\n",
            "12/12 [==============================] - 0s 5ms/step - loss: 0.3684 - accuracy: 0.8802 - val_loss: 0.3915 - val_accuracy: 0.8351\n",
            "Epoch 21/100\n",
            "12/12 [==============================] - 0s 5ms/step - loss: 0.3705 - accuracy: 0.8993 - val_loss: 0.3729 - val_accuracy: 0.8404\n",
            "Epoch 22/100\n",
            "12/12 [==============================] - 0s 5ms/step - loss: 0.3461 - accuracy: 0.9048 - val_loss: 0.3562 - val_accuracy: 0.8670\n",
            "Epoch 23/100\n",
            "12/12 [==============================] - 0s 5ms/step - loss: 0.3376 - accuracy: 0.9125 - val_loss: 0.3414 - val_accuracy: 0.8723\n",
            "Epoch 24/100\n",
            "12/12 [==============================] - 0s 4ms/step - loss: 0.3437 - accuracy: 0.8861 - val_loss: 0.3278 - val_accuracy: 0.8830\n",
            "Epoch 25/100\n",
            "12/12 [==============================] - 0s 4ms/step - loss: 0.3293 - accuracy: 0.9152 - val_loss: 0.3155 - val_accuracy: 0.8883\n",
            "Epoch 26/100\n",
            "12/12 [==============================] - 0s 5ms/step - loss: 0.2941 - accuracy: 0.9527 - val_loss: 0.3044 - val_accuracy: 0.8936\n",
            "Epoch 27/100\n",
            "12/12 [==============================] - 0s 4ms/step - loss: 0.2885 - accuracy: 0.9626 - val_loss: 0.2944 - val_accuracy: 0.8989\n",
            "Epoch 28/100\n",
            "12/12 [==============================] - 0s 4ms/step - loss: 0.2941 - accuracy: 0.9413 - val_loss: 0.2850 - val_accuracy: 0.9096\n",
            "Epoch 29/100\n",
            "12/12 [==============================] - 0s 5ms/step - loss: 0.2831 - accuracy: 0.9236 - val_loss: 0.2763 - val_accuracy: 0.9096\n",
            "Epoch 30/100\n",
            "12/12 [==============================] - 0s 5ms/step - loss: 0.2697 - accuracy: 0.9533 - val_loss: 0.2683 - val_accuracy: 0.9149\n",
            "Epoch 31/100\n",
            "12/12 [==============================] - 0s 5ms/step - loss: 0.2707 - accuracy: 0.9361 - val_loss: 0.2608 - val_accuracy: 0.9202\n",
            "Epoch 32/100\n",
            "12/12 [==============================] - 0s 4ms/step - loss: 0.2527 - accuracy: 0.9400 - val_loss: 0.2538 - val_accuracy: 0.9202\n",
            "Epoch 33/100\n",
            "12/12 [==============================] - 0s 5ms/step - loss: 0.2621 - accuracy: 0.9420 - val_loss: 0.2472 - val_accuracy: 0.9255\n",
            "Epoch 34/100\n",
            "12/12 [==============================] - 0s 5ms/step - loss: 0.2749 - accuracy: 0.9329 - val_loss: 0.2412 - val_accuracy: 0.9255\n",
            "Epoch 35/100\n",
            "12/12 [==============================] - 0s 5ms/step - loss: 0.2401 - accuracy: 0.9420 - val_loss: 0.2354 - val_accuracy: 0.9255\n",
            "Epoch 36/100\n",
            "12/12 [==============================] - 0s 5ms/step - loss: 0.2192 - accuracy: 0.9636 - val_loss: 0.2300 - val_accuracy: 0.9362\n",
            "Epoch 37/100\n",
            "12/12 [==============================] - 0s 5ms/step - loss: 0.2375 - accuracy: 0.9586 - val_loss: 0.2250 - val_accuracy: 0.9362\n",
            "Epoch 38/100\n",
            "12/12 [==============================] - 0s 5ms/step - loss: 0.2198 - accuracy: 0.9482 - val_loss: 0.2203 - val_accuracy: 0.9362\n",
            "Epoch 39/100\n",
            "12/12 [==============================] - 0s 5ms/step - loss: 0.2227 - accuracy: 0.9431 - val_loss: 0.2157 - val_accuracy: 0.9415\n",
            "Epoch 40/100\n",
            "12/12 [==============================] - 0s 5ms/step - loss: 0.2247 - accuracy: 0.9511 - val_loss: 0.2113 - val_accuracy: 0.9468\n",
            "Epoch 41/100\n",
            "12/12 [==============================] - 0s 5ms/step - loss: 0.2246 - accuracy: 0.9384 - val_loss: 0.2074 - val_accuracy: 0.9468\n",
            "Epoch 42/100\n",
            "12/12 [==============================] - 0s 5ms/step - loss: 0.1955 - accuracy: 0.9613 - val_loss: 0.2036 - val_accuracy: 0.9468\n",
            "Epoch 43/100\n",
            "12/12 [==============================] - 0s 5ms/step - loss: 0.2132 - accuracy: 0.9456 - val_loss: 0.1999 - val_accuracy: 0.9468\n",
            "Epoch 44/100\n",
            "12/12 [==============================] - 0s 5ms/step - loss: 0.1926 - accuracy: 0.9485 - val_loss: 0.1964 - val_accuracy: 0.9468\n",
            "Epoch 45/100\n",
            "12/12 [==============================] - 0s 5ms/step - loss: 0.1896 - accuracy: 0.9593 - val_loss: 0.1931 - val_accuracy: 0.9468\n",
            "Epoch 46/100\n",
            "12/12 [==============================] - 0s 5ms/step - loss: 0.1928 - accuracy: 0.9546 - val_loss: 0.1899 - val_accuracy: 0.9521\n",
            "Epoch 47/100\n",
            "12/12 [==============================] - 0s 6ms/step - loss: 0.1980 - accuracy: 0.9624 - val_loss: 0.1869 - val_accuracy: 0.9521\n",
            "Epoch 48/100\n",
            "12/12 [==============================] - 0s 5ms/step - loss: 0.1964 - accuracy: 0.9571 - val_loss: 0.1841 - val_accuracy: 0.9521\n",
            "Epoch 49/100\n",
            "12/12 [==============================] - 0s 6ms/step - loss: 0.1811 - accuracy: 0.9592 - val_loss: 0.1813 - val_accuracy: 0.9574\n",
            "Epoch 50/100\n",
            "12/12 [==============================] - 0s 5ms/step - loss: 0.1873 - accuracy: 0.9556 - val_loss: 0.1785 - val_accuracy: 0.9574\n",
            "Epoch 51/100\n",
            "12/12 [==============================] - 0s 5ms/step - loss: 0.1840 - accuracy: 0.9562 - val_loss: 0.1761 - val_accuracy: 0.9628\n",
            "Epoch 52/100\n",
            "12/12 [==============================] - 0s 5ms/step - loss: 0.1739 - accuracy: 0.9550 - val_loss: 0.1735 - val_accuracy: 0.9628\n",
            "Epoch 53/100\n",
            "12/12 [==============================] - 0s 5ms/step - loss: 0.1761 - accuracy: 0.9663 - val_loss: 0.1712 - val_accuracy: 0.9628\n",
            "Epoch 54/100\n",
            "12/12 [==============================] - 0s 4ms/step - loss: 0.1726 - accuracy: 0.9609 - val_loss: 0.1689 - val_accuracy: 0.9628\n",
            "Epoch 55/100\n",
            "12/12 [==============================] - 0s 5ms/step - loss: 0.1754 - accuracy: 0.9722 - val_loss: 0.1667 - val_accuracy: 0.9628\n",
            "Epoch 56/100\n",
            "12/12 [==============================] - 0s 5ms/step - loss: 0.1660 - accuracy: 0.9649 - val_loss: 0.1646 - val_accuracy: 0.9628\n",
            "Epoch 57/100\n",
            "12/12 [==============================] - 0s 5ms/step - loss: 0.1662 - accuracy: 0.9614 - val_loss: 0.1626 - val_accuracy: 0.9628\n",
            "Epoch 58/100\n",
            "12/12 [==============================] - 0s 5ms/step - loss: 0.1608 - accuracy: 0.9637 - val_loss: 0.1607 - val_accuracy: 0.9628\n",
            "Epoch 59/100\n",
            "12/12 [==============================] - 0s 4ms/step - loss: 0.1552 - accuracy: 0.9583 - val_loss: 0.1588 - val_accuracy: 0.9628\n",
            "Epoch 60/100\n",
            "12/12 [==============================] - 0s 5ms/step - loss: 0.1643 - accuracy: 0.9594 - val_loss: 0.1569 - val_accuracy: 0.9628\n",
            "Epoch 61/100\n",
            "12/12 [==============================] - 0s 5ms/step - loss: 0.1668 - accuracy: 0.9580 - val_loss: 0.1552 - val_accuracy: 0.9628\n",
            "Epoch 62/100\n",
            "12/12 [==============================] - 0s 5ms/step - loss: 0.1789 - accuracy: 0.9531 - val_loss: 0.1535 - val_accuracy: 0.9628\n",
            "Epoch 63/100\n",
            "12/12 [==============================] - 0s 5ms/step - loss: 0.1759 - accuracy: 0.9460 - val_loss: 0.1519 - val_accuracy: 0.9628\n",
            "Epoch 64/100\n",
            "12/12 [==============================] - 0s 5ms/step - loss: 0.1589 - accuracy: 0.9707 - val_loss: 0.1503 - val_accuracy: 0.9628\n",
            "Epoch 65/100\n",
            "12/12 [==============================] - 0s 5ms/step - loss: 0.1440 - accuracy: 0.9754 - val_loss: 0.1486 - val_accuracy: 0.9628\n",
            "Epoch 66/100\n",
            "12/12 [==============================] - 0s 5ms/step - loss: 0.1487 - accuracy: 0.9680 - val_loss: 0.1472 - val_accuracy: 0.9628\n",
            "Epoch 67/100\n",
            "12/12 [==============================] - 0s 5ms/step - loss: 0.1503 - accuracy: 0.9617 - val_loss: 0.1457 - val_accuracy: 0.9681\n",
            "Epoch 68/100\n",
            "12/12 [==============================] - 0s 5ms/step - loss: 0.1427 - accuracy: 0.9777 - val_loss: 0.1442 - val_accuracy: 0.9681\n",
            "Epoch 69/100\n",
            "12/12 [==============================] - 0s 5ms/step - loss: 0.1616 - accuracy: 0.9575 - val_loss: 0.1429 - val_accuracy: 0.9681\n",
            "Epoch 70/100\n",
            "12/12 [==============================] - 0s 5ms/step - loss: 0.1594 - accuracy: 0.9689 - val_loss: 0.1416 - val_accuracy: 0.9681\n",
            "Epoch 71/100\n",
            "12/12 [==============================] - 0s 5ms/step - loss: 0.1367 - accuracy: 0.9708 - val_loss: 0.1401 - val_accuracy: 0.9681\n",
            "Epoch 72/100\n",
            "12/12 [==============================] - 0s 5ms/step - loss: 0.1645 - accuracy: 0.9643 - val_loss: 0.1390 - val_accuracy: 0.9681\n",
            "Epoch 73/100\n",
            "12/12 [==============================] - 0s 5ms/step - loss: 0.1377 - accuracy: 0.9660 - val_loss: 0.1377 - val_accuracy: 0.9681\n",
            "Epoch 74/100\n",
            "12/12 [==============================] - 0s 5ms/step - loss: 0.1431 - accuracy: 0.9659 - val_loss: 0.1365 - val_accuracy: 0.9681\n",
            "Epoch 75/100\n",
            "12/12 [==============================] - 0s 5ms/step - loss: 0.1496 - accuracy: 0.9595 - val_loss: 0.1353 - val_accuracy: 0.9681\n",
            "Epoch 76/100\n",
            "12/12 [==============================] - 0s 5ms/step - loss: 0.1594 - accuracy: 0.9630 - val_loss: 0.1343 - val_accuracy: 0.9681\n",
            "Epoch 77/100\n",
            "12/12 [==============================] - 0s 5ms/step - loss: 0.1293 - accuracy: 0.9780 - val_loss: 0.1331 - val_accuracy: 0.9681\n",
            "Epoch 78/100\n",
            "12/12 [==============================] - 0s 5ms/step - loss: 0.1303 - accuracy: 0.9728 - val_loss: 0.1320 - val_accuracy: 0.9681\n",
            "Epoch 79/100\n",
            "12/12 [==============================] - 0s 5ms/step - loss: 0.1242 - accuracy: 0.9837 - val_loss: 0.1310 - val_accuracy: 0.9681\n",
            "Epoch 80/100\n",
            "12/12 [==============================] - 0s 5ms/step - loss: 0.1363 - accuracy: 0.9758 - val_loss: 0.1299 - val_accuracy: 0.9681\n",
            "Epoch 81/100\n",
            "12/12 [==============================] - 0s 6ms/step - loss: 0.1413 - accuracy: 0.9801 - val_loss: 0.1289 - val_accuracy: 0.9681\n",
            "Epoch 82/100\n",
            "12/12 [==============================] - 0s 5ms/step - loss: 0.1372 - accuracy: 0.9702 - val_loss: 0.1279 - val_accuracy: 0.9681\n",
            "Epoch 83/100\n",
            "12/12 [==============================] - 0s 5ms/step - loss: 0.1500 - accuracy: 0.9710 - val_loss: 0.1270 - val_accuracy: 0.9681\n",
            "Epoch 84/100\n",
            "12/12 [==============================] - 0s 6ms/step - loss: 0.1409 - accuracy: 0.9670 - val_loss: 0.1260 - val_accuracy: 0.9681\n",
            "Epoch 85/100\n",
            "12/12 [==============================] - 0s 5ms/step - loss: 0.1269 - accuracy: 0.9754 - val_loss: 0.1251 - val_accuracy: 0.9681\n",
            "Epoch 86/100\n",
            "12/12 [==============================] - 0s 5ms/step - loss: 0.1217 - accuracy: 0.9767 - val_loss: 0.1242 - val_accuracy: 0.9681\n",
            "Epoch 87/100\n",
            "12/12 [==============================] - 0s 5ms/step - loss: 0.1212 - accuracy: 0.9825 - val_loss: 0.1233 - val_accuracy: 0.9681\n",
            "Epoch 88/100\n",
            "12/12 [==============================] - 0s 5ms/step - loss: 0.1212 - accuracy: 0.9716 - val_loss: 0.1225 - val_accuracy: 0.9681\n",
            "Epoch 89/100\n",
            "12/12 [==============================] - 0s 5ms/step - loss: 0.1268 - accuracy: 0.9804 - val_loss: 0.1216 - val_accuracy: 0.9681\n",
            "Epoch 90/100\n",
            "12/12 [==============================] - 0s 5ms/step - loss: 0.1265 - accuracy: 0.9753 - val_loss: 0.1208 - val_accuracy: 0.9681\n",
            "Epoch 91/100\n",
            "12/12 [==============================] - 0s 5ms/step - loss: 0.1180 - accuracy: 0.9699 - val_loss: 0.1200 - val_accuracy: 0.9681\n",
            "Epoch 92/100\n",
            "12/12 [==============================] - 0s 5ms/step - loss: 0.1259 - accuracy: 0.9651 - val_loss: 0.1193 - val_accuracy: 0.9681\n",
            "Epoch 93/100\n",
            "12/12 [==============================] - 0s 5ms/step - loss: 0.1211 - accuracy: 0.9754 - val_loss: 0.1185 - val_accuracy: 0.9681\n",
            "Epoch 94/100\n",
            "12/12 [==============================] - 0s 6ms/step - loss: 0.1092 - accuracy: 0.9884 - val_loss: 0.1177 - val_accuracy: 0.9681\n",
            "Epoch 95/100\n",
            "12/12 [==============================] - 0s 5ms/step - loss: 0.1146 - accuracy: 0.9775 - val_loss: 0.1169 - val_accuracy: 0.9681\n",
            "Epoch 96/100\n",
            "12/12 [==============================] - 0s 5ms/step - loss: 0.1161 - accuracy: 0.9769 - val_loss: 0.1162 - val_accuracy: 0.9681\n",
            "Epoch 97/100\n",
            "12/12 [==============================] - 0s 5ms/step - loss: 0.1162 - accuracy: 0.9866 - val_loss: 0.1155 - val_accuracy: 0.9681\n",
            "Epoch 98/100\n",
            "12/12 [==============================] - 0s 5ms/step - loss: 0.1403 - accuracy: 0.9705 - val_loss: 0.1148 - val_accuracy: 0.9681\n",
            "Epoch 99/100\n",
            "12/12 [==============================] - 0s 5ms/step - loss: 0.1142 - accuracy: 0.9922 - val_loss: 0.1141 - val_accuracy: 0.9681\n",
            "Epoch 100/100\n",
            "12/12 [==============================] - 0s 5ms/step - loss: 0.1181 - accuracy: 0.9756 - val_loss: 0.1135 - val_accuracy: 0.9681\n",
            "12/12 [==============================] - 0s 1ms/step - loss: 0.1162 - accuracy: 0.9816\n",
            "Train score :  [0.11624494194984436, 0.9816272854804993]\n",
            "6/6 [==============================] - 0s 2ms/step - loss: 0.1135 - accuracy: 0.9681\n",
            "Test score :  [0.11348316818475723, 0.9680851101875305]\n"
          ],
          "name": "stdout"
        }
      ]
    },
    {
      "cell_type": "code",
      "metadata": {
        "colab": {
          "base_uri": "https://localhost:8080/",
          "height": 281
        },
        "id": "iJn6-6Zzrhuq",
        "outputId": "0e8fa5ea-2171-4b2c-b29f-c20fe71db7c9"
      },
      "source": [
        "import matplotlib.pyplot as plt\r\n",
        "\r\n",
        "plt.plot(r.history['loss'], label='loss')\r\n",
        "plt.plot(r.history['val_loss'], label='val_loss')\r\n",
        "plt.legend()"
      ],
      "execution_count": 24,
      "outputs": [
        {
          "output_type": "execute_result",
          "data": {
            "text/plain": [
              "<matplotlib.legend.Legend at 0x7f768b984c50>"
            ]
          },
          "metadata": {
            "tags": []
          },
          "execution_count": 24
        },
        {
          "output_type": "display_data",
          "data": {
            "image/png": "[encoded data removed]",
            "text/plain": [
              "<Figure size 432x288 with 1 Axes>"
            ]
          },
          "metadata": {
            "tags": [],
            "needs_background": "light"
          }
        }
      ]
    },
    {
      "cell_type": "code",
      "metadata": {
        "colab": {
          "base_uri": "https://localhost:8080/",
          "height": 281
        },
        "id": "dYfYLvHwr9xk",
        "outputId": "6b23ff07-8a91-442d-c2fc-093f8d995dd4"
      },
      "source": [
        "plt.plot(r.history['accuracy'], label='accuracy')\r\n",
        "plt.plot(r.history['val_accuracy'], label='val_accuracy')\r\n",
        "plt.legend()"
      ],
      "execution_count": 25,
      "outputs": [
        {
          "output_type": "execute_result",
          "data": {
            "text/plain": [
              "<matplotlib.legend.Legend at 0x7f768b976c10>"
            ]
          },
          "metadata": {
            "tags": []
          },
          "execution_count": 25
        },
        {
          "output_type": "display_data",
          "data": {
            "image/png": "[encoded data removed]",
            "text/plain": [
              "<Figure size 432x288 with 1 Axes>"
            ]
          },
          "metadata": {
            "tags": [],
            "needs_background": "light"
          }
        }
      ]
    },
    {
      "cell_type": "code",
      "metadata": {
        "colab": {
          "base_uri": "https://localhost:8080/"
        },
        "id": "xevqKvT8twxy",
        "outputId": "f62307c3-d049-4aa4-a35f-2a2ebcd5bb96"
      },
      "source": [
        "# Make predictions\r\n",
        "P = model.predict(X_test)\r\n",
        "print(P) # p(y = 1 | x) "
      ],
      "execution_count": 29,
      "outputs": [
        {
          "output_type": "stream",
          "text": [
            "[[9.2723966e-04]\n",
            " [1.4634404e-05]\n",
            " [9.8614287e-01]\n",
            " [4.0490031e-03]\n",
            " [2.9217988e-02]\n",
            " [9.7621202e-01]\n",
            " [9.2837298e-01]\n",
            " [9.2555940e-01]\n",
            " [9.2697752e-01]\n",
            " [4.2063075e-01]\n",
            " [9.8639059e-01]\n",
            " [8.0218029e-01]\n",
            " [4.5349512e-01]\n",
            " [5.2049428e-02]\n",
            " [9.7894943e-01]\n",
            " [9.7308469e-01]\n",
            " [2.6933849e-03]\n",
            " [1.3232827e-03]\n",
            " [4.3197581e-01]\n",
            " [9.9545205e-01]\n",
            " [2.8620362e-03]\n",
            " [9.2275321e-01]\n",
            " [2.7604079e-01]\n",
            " [9.9855816e-01]\n",
            " [7.1375370e-02]\n",
            " [1.5285611e-04]\n",
            " [9.4100630e-01]\n",
            " [9.6455932e-01]\n",
            " [9.8763520e-01]\n",
            " [9.7939026e-01]\n",
            " [1.6257197e-02]\n",
            " [9.5077693e-01]\n",
            " [4.2417996e-05]\n",
            " [8.9242971e-01]\n",
            " [9.8801714e-01]\n",
            " [9.7644651e-01]\n",
            " [3.4808570e-05]\n",
            " [9.2265862e-01]\n",
            " [9.3500268e-01]\n",
            " [9.3902695e-01]\n",
            " [9.9929172e-01]\n",
            " [9.5714247e-01]\n",
            " [1.0101592e-04]\n",
            " [6.5763390e-01]\n",
            " [7.4071550e-01]\n",
            " [9.6820712e-01]\n",
            " [2.1518555e-01]\n",
            " [3.8720417e-01]\n",
            " [9.3830371e-01]\n",
            " [9.7905993e-01]\n",
            " [9.0179384e-01]\n",
            " [9.9562192e-01]\n",
            " [6.6454774e-01]\n",
            " [3.1850854e-05]\n",
            " [7.9068971e-01]\n",
            " [8.8872981e-01]\n",
            " [2.0668584e-01]\n",
            " [1.0016712e-04]\n",
            " [9.9266511e-01]\n",
            " [9.8865569e-01]\n",
            " [5.7928413e-02]\n",
            " [7.1591395e-01]\n",
            " [5.3960085e-04]\n",
            " [8.5539365e-01]\n",
            " [9.8094612e-01]\n",
            " [9.7445393e-01]\n",
            " [8.2688498e-01]\n",
            " [9.4218820e-01]\n",
            " [8.6626065e-01]\n",
            " [9.6617782e-01]\n",
            " [9.2980158e-01]\n",
            " [9.9494731e-01]\n",
            " [5.3985715e-03]\n",
            " [6.6138715e-02]\n",
            " [6.9546074e-01]\n",
            " [9.7683638e-01]\n",
            " [5.3845739e-01]\n",
            " [9.8192185e-01]\n",
            " [1.4054775e-04]\n",
            " [9.9503994e-01]\n",
            " [1.3635316e-01]\n",
            " [8.9686131e-01]\n",
            " [4.1291118e-03]\n",
            " [1.9375980e-03]\n",
            " [9.9906063e-01]\n",
            " [4.1548461e-02]\n",
            " [9.9537301e-01]\n",
            " [2.9726332e-01]\n",
            " [9.4275069e-01]\n",
            " [9.9471444e-01]\n",
            " [9.7009277e-01]\n",
            " [6.8787545e-01]\n",
            " [8.0120564e-03]\n",
            " [9.3583429e-01]\n",
            " [9.8970634e-01]\n",
            " [9.8487711e-01]\n",
            " [3.3340871e-02]\n",
            " [3.9031804e-03]\n",
            " [9.9382252e-01]\n",
            " [9.5673245e-01]\n",
            " [7.2882390e-01]\n",
            " [9.4557017e-01]\n",
            " [9.9367809e-01]\n",
            " [4.5915329e-01]\n",
            " [9.7967762e-01]\n",
            " [9.9702573e-01]\n",
            " [9.0058112e-01]\n",
            " [9.3218100e-01]\n",
            " [3.2157809e-02]\n",
            " [8.5811108e-02]\n",
            " [5.9140027e-01]\n",
            " [9.9236786e-01]\n",
            " [9.9914455e-01]\n",
            " [9.0332425e-01]\n",
            " [1.7778218e-02]\n",
            " [9.7585201e-01]\n",
            " [2.4237633e-03]\n",
            " [9.8680097e-01]\n",
            " [9.9190676e-01]\n",
            " [9.8635018e-01]\n",
            " [8.4330440e-01]\n",
            " [8.2757425e-01]\n",
            " [9.6937418e-01]\n",
            " [2.2827582e-05]\n",
            " [4.6966404e-02]\n",
            " [1.2161821e-02]\n",
            " [9.7951353e-01]\n",
            " [9.6816707e-01]\n",
            " [8.1849301e-01]\n",
            " [5.9082222e-01]\n",
            " [9.9338996e-01]\n",
            " [9.3368220e-01]\n",
            " [3.8001615e-01]\n",
            " [8.5413098e-02]\n",
            " [3.9442539e-01]\n",
            " [1.0515273e-02]\n",
            " [9.9564898e-01]\n",
            " [9.9741113e-01]\n",
            " [5.3830445e-03]\n",
            " [8.2999170e-03]\n",
            " [2.3526576e-01]\n",
            " [5.7478845e-03]\n",
            " [9.6626890e-01]\n",
            " [8.6851633e-01]\n",
            " [6.5485239e-03]\n",
            " [6.7212219e-05]\n",
            " [9.0393424e-04]\n",
            " [9.9901229e-01]\n",
            " [7.3061883e-03]\n",
            " [8.7734121e-01]\n",
            " [3.8464367e-02]\n",
            " [9.6717572e-01]\n",
            " [1.5587866e-01]\n",
            " [7.7755809e-02]\n",
            " [9.8486084e-01]\n",
            " [9.7486663e-01]\n",
            " [2.9129088e-02]\n",
            " [6.5232754e-02]\n",
            " [2.4065375e-04]\n",
            " [2.3394823e-03]\n",
            " [4.9123168e-04]\n",
            " [9.9829751e-01]\n",
            " [9.7303611e-01]\n",
            " [9.9267507e-01]\n",
            " [9.8908049e-01]\n",
            " [1.9650936e-01]\n",
            " [9.8336458e-01]\n",
            " [7.3208594e-01]\n",
            " [8.9203858e-01]\n",
            " [6.2864721e-02]\n",
            " [9.4197106e-01]\n",
            " [9.9313641e-01]\n",
            " [9.9850392e-01]\n",
            " [9.8912251e-01]\n",
            " [9.4776380e-01]\n",
            " [7.9906416e-01]\n",
            " [2.3798376e-02]\n",
            " [4.1484737e-01]\n",
            " [2.0481044e-01]\n",
            " [7.6567030e-06]\n",
            " [8.3589351e-01]\n",
            " [9.9367380e-01]\n",
            " [6.3702673e-02]\n",
            " [2.7387738e-03]\n",
            " [9.8195159e-01]\n",
            " [9.3160057e-01]\n",
            " [2.9948950e-03]\n",
            " [9.5291638e-01]]\n"
          ],
          "name": "stdout"
        }
      ]
    },
    {
      "cell_type": "code",
      "metadata": {
        "colab": {
          "base_uri": "https://localhost:8080/"
        },
        "id": "U7-YTscmHjdW",
        "outputId": "7040e4e1-f47a-45c7-cb05-196c4924d1b1"
      },
      "source": [
        "#Roumd to get rounded numbers and flatten to get either 0 or 1\r\n",
        "import numpy as np\r\n",
        "\r\n",
        "P = np.round(P).flatten()\r\n",
        "print(P)"
      ],
      "execution_count": 31,
      "outputs": [
        {
          "output_type": "stream",
          "text": [
            "[0. 0. 1. 0. 0. 1. 1. 1. 1. 0. 1. 1. 0. 0. 1. 1. 0. 0. 0. 1. 0. 1. 0. 1.\n",
            " 0. 0. 1. 1. 1. 1. 0. 1. 0. 1. 1. 1. 0. 1. 1. 1. 1. 1. 0. 1. 1. 1. 0. 0.\n",
            " 1. 1. 1. 1. 1. 0. 1. 1. 0. 0. 1. 1. 0. 1. 0. 1. 1. 1. 1. 1. 1. 1. 1. 1.\n",
            " 0. 0. 1. 1. 1. 1. 0. 1. 0. 1. 0. 0. 1. 0. 1. 0. 1. 1. 1. 1. 0. 1. 1. 1.\n",
            " 0. 0. 1. 1. 1. 1. 1. 0. 1. 1. 1. 1. 0. 0. 1. 1. 1. 1. 0. 1. 0. 1. 1. 1.\n",
            " 1. 1. 1. 0. 0. 0. 1. 1. 1. 1. 1. 1. 0. 0. 0. 0. 1. 1. 0. 0. 0. 0. 1. 1.\n",
            " 0. 0. 0. 1. 0. 1. 0. 1. 0. 0. 1. 1. 0. 0. 0. 0. 0. 1. 1. 1. 1. 0. 1. 1.\n",
            " 1. 0. 1. 1. 1. 1. 1. 1. 0. 0. 0. 0. 1. 1. 0. 0. 1. 1. 0. 1.]\n"
          ],
          "name": "stdout"
        }
      ]
    },
    {
      "cell_type": "code",
      "metadata": {
        "colab": {
          "base_uri": "https://localhost:8080/"
        },
        "id": "7hoYsjBDIFw0",
        "outputId": "e4a8b4fc-4cc3-4fae-e9f8-89fce11693d6"
      },
      "source": [
        "# Calculate the accuracy, compare it to evaluate() output\r\n",
        "print(\"Manually calculated accuracy:\", np.mean(P == y_test))\r\n",
        "print(\"Evaluate output:\", model.evaluate(X_test, y_test))"
      ],
      "execution_count": 32,
      "outputs": [
        {
          "output_type": "stream",
          "text": [
            "Manually calculated accuracy: 0.9680851063829787\n",
            "6/6 [==============================] - 0s 2ms/step - loss: 0.1135 - accuracy: 0.9681\n",
            "Evaluate output: [0.11348316818475723, 0.9680851101875305]\n"
          ],
          "name": "stdout"
        }
      ]
    }
  ]
}