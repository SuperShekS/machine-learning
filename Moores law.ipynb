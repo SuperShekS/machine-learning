{
  "nbformat": 4,
  "nbformat_minor": 0,
  "metadata": {
    "colab": {
      "name": "Moore.ipynb",
      "provenance": [],
      "authorship_tag": "ABX9TyMVrVegloWvptSMUZkoZ7WM",
      "include_colab_link": true
    },
    "kernelspec": {
      "name": "python3",
      "display_name": "Python 3"
    }
  },
  "cells": [
    {
      "cell_type": "markdown",
      "metadata": {
        "id": "view-in-github",
        "colab_type": "text"
      },
      "source": [
        "<a href=\"https://colab.research.google.com/github/SuperShekS/machine-learning/blob/main/Moores%20law.ipynb\" target=\"_parent\"><img src=\"https://colab.research.google.com/assets/colab-badge.svg\" alt=\"Open In Colab\"/></a>"
      ]
    },
    {
      "cell_type": "markdown",
      "metadata": {
        "id": "KZVxvKC1M7do"
      },
      "source": [
        "## Using Linear Regression to prove Moore's law\r\n"
      ]
    },
    {
      "cell_type": "code",
      "metadata": {
        "id": "PXSr9aS91Kgx"
      },
      "source": [
        "import tensorflow as tf\r\n",
        "import numpy as np\r\n",
        "import pandas as pd\r\n",
        "import matplotlib.pyplot as plt"
      ],
      "execution_count": 16,
      "outputs": []
    },
    {
      "cell_type": "code",
      "metadata": {
        "id": "i9iK48Zt1cx3"
      },
      "source": [
        "!wget https://raw.githubusercontent.com/lazyprogrammer/machine_learning_examples/master/tf2.0/moore.csv"
      ],
      "execution_count": null,
      "outputs": []
    },
    {
      "cell_type": "code",
      "metadata": {
        "id": "aERukg521zPO"
      },
      "source": [
        "data = pd.read_csv('moore.csv', header = None).values\r\n",
        "X = data[:, 0].reshape(-1, 1)\r\n",
        "Y = data[:, 1]"
      ],
      "execution_count": 38,
      "outputs": []
    },
    {
      "cell_type": "code",
      "metadata": {
        "colab": {
          "base_uri": "https://localhost:8080/",
          "height": 292
        },
        "id": "rDdoKZIM2Uod",
        "outputId": "6ca2f4fb-fa6f-4c70-b975-b4a95ed4947f"
      },
      "source": [
        "plt.scatter(X, Y)"
      ],
      "execution_count": 39,
      "outputs": [
        {
          "output_type": "execute_result",
          "data": {
            "text/plain": [
              "<matplotlib.collections.PathCollection at 0x7f24c7555290>"
            ]
          },
          "metadata": {
            "tags": []
          },
          "execution_count": 39
        },
        {
          "output_type": "display_data",
          "data": {
            "image/png": "[encoded data removed]",
            "text/plain": [
              "<Figure size 432x288 with 1 Axes>"
            ]
          },
          "metadata": {
            "tags": [],
            "needs_background": "light"
          }
        }
      ]
    },
    {
      "cell_type": "code",
      "metadata": {
        "colab": {
          "base_uri": "https://localhost:8080/",
          "height": 281
        },
        "id": "s_26MCtd2sPl",
        "outputId": "b667c657-410a-41b0-edd0-c04a886334ce"
      },
      "source": [
        "Y = np.log(Y)\r\n",
        "plt.scatter(X, Y)"
      ],
      "execution_count": 40,
      "outputs": [
        {
          "output_type": "execute_result",
          "data": {
            "text/plain": [
              "<matplotlib.collections.PathCollection at 0x7f24c74c5450>"
            ]
          },
          "metadata": {
            "tags": []
          },
          "execution_count": 40
        },
        {
          "output_type": "display_data",
          "data": {
            "image/png": "[encoded data removed]",
            "text/plain": [
              "<Figure size 432x288 with 1 Axes>"
            ]
          },
          "metadata": {
            "tags": [],
            "needs_background": "light"
          }
        }
      ]
    },
    {
      "cell_type": "code",
      "metadata": {
        "id": "TYxWQKi020M1"
      },
      "source": [
        "X = X - X.mean()"
      ],
      "execution_count": 41,
      "outputs": []
    },
    {
      "cell_type": "code",
      "metadata": {
        "colab": {
          "base_uri": "https://localhost:8080/"
        },
        "id": "sqcUWvPW3Kp9",
        "outputId": "7c1b9bc3-a546-40bb-a12c-f2356fd82ae7"
      },
      "source": [
        "model = tf.keras.models.Sequential([\r\n",
        "        tf.keras.layers.Input(shape=(1,)),\r\n",
        "        tf.keras.layers.Dense(1)\r\n",
        "])\r\n",
        "\r\n",
        "model.compile(optimizer = tf.keras.optimizers.SGD(0.001, 0.9), loss = 'mse')\r\n",
        "\r\n",
        "#learning rate scheduler\r\n",
        "def schedule(epoch, lr):\r\n",
        "    if epoch >= 50:\r\n",
        "        return 0.0001\r\n",
        "    return 0.001\r\n",
        "\r\n",
        "\r\n",
        "scheduler = tf.keras.callbacks.LearningRateScheduler(schedule)\r\n",
        "\r\n",
        "#train the model \r\n",
        "r = model.fit(X, Y, epochs = 200, callbacks=[scheduler])"
      ],
      "execution_count": 42,
      "outputs": [
        {
          "output_type": "stream",
          "text": [
            "Epoch 1/200\n",
            "6/6 [==============================] - 0s 2ms/step - loss: 319.0673\n",
            "Epoch 2/200\n",
            "6/6 [==============================] - 0s 1ms/step - loss: 320.5627\n",
            "Epoch 3/200\n",
            "6/6 [==============================] - 0s 2ms/step - loss: 274.7825\n",
            "Epoch 4/200\n",
            "6/6 [==============================] - 0s 2ms/step - loss: 250.7560\n",
            "Epoch 5/200\n",
            "6/6 [==============================] - 0s 2ms/step - loss: 188.0683\n",
            "Epoch 6/200\n",
            "6/6 [==============================] - 0s 2ms/step - loss: 123.0765\n",
            "Epoch 7/200\n",
            "6/6 [==============================] - 0s 2ms/step - loss: 86.5471\n",
            "Epoch 8/200\n",
            "6/6 [==============================] - 0s 2ms/step - loss: 65.0339\n",
            "Epoch 9/200\n",
            "6/6 [==============================] - 0s 2ms/step - loss: 56.5295\n",
            "Epoch 10/200\n",
            "6/6 [==============================] - 0s 2ms/step - loss: 39.4122\n",
            "Epoch 11/200\n",
            "6/6 [==============================] - 0s 2ms/step - loss: 26.0603\n",
            "Epoch 12/200\n",
            "6/6 [==============================] - 0s 2ms/step - loss: 29.4300\n",
            "Epoch 13/200\n",
            "6/6 [==============================] - 0s 3ms/step - loss: 36.1997\n",
            "Epoch 14/200\n",
            "6/6 [==============================] - 0s 3ms/step - loss: 32.2968\n",
            "Epoch 15/200\n",
            "6/6 [==============================] - 0s 2ms/step - loss: 18.5864\n",
            "Epoch 16/200\n",
            "6/6 [==============================] - 0s 2ms/step - loss: 12.9376\n",
            "Epoch 17/200\n",
            "6/6 [==============================] - 0s 2ms/step - loss: 8.2219\n",
            "Epoch 18/200\n",
            "6/6 [==============================] - 0s 2ms/step - loss: 6.8726\n",
            "Epoch 19/200\n",
            "6/6 [==============================] - 0s 2ms/step - loss: 3.2491\n",
            "Epoch 20/200\n",
            "6/6 [==============================] - 0s 2ms/step - loss: 2.9079\n",
            "Epoch 21/200\n",
            "6/6 [==============================] - 0s 2ms/step - loss: 2.2631\n",
            "Epoch 22/200\n",
            "6/6 [==============================] - 0s 2ms/step - loss: 1.8114\n",
            "Epoch 23/200\n",
            "6/6 [==============================] - 0s 2ms/step - loss: 1.4622\n",
            "Epoch 24/200\n",
            "6/6 [==============================] - 0s 2ms/step - loss: 1.3522\n",
            "Epoch 25/200\n",
            "6/6 [==============================] - 0s 2ms/step - loss: 1.2549\n",
            "Epoch 26/200\n",
            "6/6 [==============================] - 0s 2ms/step - loss: 1.4938\n",
            "Epoch 27/200\n",
            "6/6 [==============================] - 0s 2ms/step - loss: 1.0752\n",
            "Epoch 28/200\n",
            "6/6 [==============================] - 0s 2ms/step - loss: 1.0869\n",
            "Epoch 29/200\n",
            "6/6 [==============================] - 0s 2ms/step - loss: 1.1271\n",
            "Epoch 30/200\n",
            "6/6 [==============================] - 0s 2ms/step - loss: 0.8601\n",
            "Epoch 31/200\n",
            "6/6 [==============================] - 0s 2ms/step - loss: 0.8916\n",
            "Epoch 32/200\n",
            "6/6 [==============================] - 0s 2ms/step - loss: 0.8108\n",
            "Epoch 33/200\n",
            "6/6 [==============================] - 0s 3ms/step - loss: 0.9582\n",
            "Epoch 34/200\n",
            "6/6 [==============================] - 0s 2ms/step - loss: 0.8426\n",
            "Epoch 35/200\n",
            "6/6 [==============================] - 0s 2ms/step - loss: 0.8261\n",
            "Epoch 36/200\n",
            "6/6 [==============================] - 0s 2ms/step - loss: 1.1278\n",
            "Epoch 37/200\n",
            "6/6 [==============================] - 0s 3ms/step - loss: 1.1824\n",
            "Epoch 38/200\n",
            "6/6 [==============================] - 0s 2ms/step - loss: 1.1090\n",
            "Epoch 39/200\n",
            "6/6 [==============================] - 0s 2ms/step - loss: 0.9394\n",
            "Epoch 40/200\n",
            "6/6 [==============================] - 0s 2ms/step - loss: 0.9224\n",
            "Epoch 41/200\n",
            "6/6 [==============================] - 0s 2ms/step - loss: 0.8725\n",
            "Epoch 42/200\n",
            "6/6 [==============================] - 0s 2ms/step - loss: 0.9944\n",
            "Epoch 43/200\n",
            "6/6 [==============================] - 0s 2ms/step - loss: 1.0671\n",
            "Epoch 44/200\n",
            "6/6 [==============================] - 0s 2ms/step - loss: 1.0677\n",
            "Epoch 45/200\n",
            "6/6 [==============================] - 0s 2ms/step - loss: 1.1207\n",
            "Epoch 46/200\n",
            "6/6 [==============================] - 0s 2ms/step - loss: 0.9448\n",
            "Epoch 47/200\n",
            "6/6 [==============================] - 0s 3ms/step - loss: 0.9079\n",
            "Epoch 48/200\n",
            "6/6 [==============================] - 0s 2ms/step - loss: 0.9489\n",
            "Epoch 49/200\n",
            "6/6 [==============================] - 0s 2ms/step - loss: 1.2583\n",
            "Epoch 50/200\n",
            "6/6 [==============================] - 0s 1ms/step - loss: 1.3474\n",
            "Epoch 51/200\n",
            "6/6 [==============================] - 0s 2ms/step - loss: 0.8307\n",
            "Epoch 52/200\n",
            "6/6 [==============================] - 0s 2ms/step - loss: 1.2342\n",
            "Epoch 53/200\n",
            "6/6 [==============================] - 0s 2ms/step - loss: 1.0396\n",
            "Epoch 54/200\n",
            "6/6 [==============================] - 0s 2ms/step - loss: 0.7536\n",
            "Epoch 55/200\n",
            "6/6 [==============================] - 0s 3ms/step - loss: 1.1712\n",
            "Epoch 56/200\n",
            "6/6 [==============================] - 0s 3ms/step - loss: 0.9307\n",
            "Epoch 57/200\n",
            "6/6 [==============================] - 0s 3ms/step - loss: 0.9778\n",
            "Epoch 58/200\n",
            "6/6 [==============================] - 0s 2ms/step - loss: 0.7483\n",
            "Epoch 59/200\n",
            "6/6 [==============================] - 0s 2ms/step - loss: 0.9495\n",
            "Epoch 60/200\n",
            "6/6 [==============================] - 0s 2ms/step - loss: 0.7817\n",
            "Epoch 61/200\n",
            "6/6 [==============================] - 0s 2ms/step - loss: 0.7927\n",
            "Epoch 62/200\n",
            "6/6 [==============================] - 0s 2ms/step - loss: 0.8645\n",
            "Epoch 63/200\n",
            "6/6 [==============================] - 0s 2ms/step - loss: 0.6189\n",
            "Epoch 64/200\n",
            "6/6 [==============================] - 0s 2ms/step - loss: 0.9383\n",
            "Epoch 65/200\n",
            "6/6 [==============================] - 0s 2ms/step - loss: 0.8416\n",
            "Epoch 66/200\n",
            "6/6 [==============================] - 0s 2ms/step - loss: 0.7844\n",
            "Epoch 67/200\n",
            "6/6 [==============================] - 0s 3ms/step - loss: 1.0574\n",
            "Epoch 68/200\n",
            "6/6 [==============================] - 0s 2ms/step - loss: 0.8542\n",
            "Epoch 69/200\n",
            "6/6 [==============================] - 0s 2ms/step - loss: 0.8803\n",
            "Epoch 70/200\n",
            "6/6 [==============================] - 0s 2ms/step - loss: 0.7423\n",
            "Epoch 71/200\n",
            "6/6 [==============================] - 0s 3ms/step - loss: 0.7438\n",
            "Epoch 72/200\n",
            "6/6 [==============================] - 0s 2ms/step - loss: 0.8563\n",
            "Epoch 73/200\n",
            "6/6 [==============================] - 0s 3ms/step - loss: 1.0992\n",
            "Epoch 74/200\n",
            "6/6 [==============================] - 0s 2ms/step - loss: 0.6819\n",
            "Epoch 75/200\n",
            "6/6 [==============================] - 0s 3ms/step - loss: 0.8759\n",
            "Epoch 76/200\n",
            "6/6 [==============================] - 0s 2ms/step - loss: 0.8783\n",
            "Epoch 77/200\n",
            "6/6 [==============================] - 0s 3ms/step - loss: 0.8881\n",
            "Epoch 78/200\n",
            "6/6 [==============================] - 0s 3ms/step - loss: 0.7401\n",
            "Epoch 79/200\n",
            "6/6 [==============================] - 0s 2ms/step - loss: 0.9036\n",
            "Epoch 80/200\n",
            "6/6 [==============================] - 0s 4ms/step - loss: 0.9241\n",
            "Epoch 81/200\n",
            "6/6 [==============================] - 0s 1ms/step - loss: 1.0108\n",
            "Epoch 82/200\n",
            "6/6 [==============================] - 0s 2ms/step - loss: 0.8539\n",
            "Epoch 83/200\n",
            "6/6 [==============================] - 0s 3ms/step - loss: 0.9445\n",
            "Epoch 84/200\n",
            "6/6 [==============================] - 0s 3ms/step - loss: 0.8379\n",
            "Epoch 85/200\n",
            "6/6 [==============================] - 0s 2ms/step - loss: 0.9781\n",
            "Epoch 86/200\n",
            "6/6 [==============================] - 0s 3ms/step - loss: 0.8515\n",
            "Epoch 87/200\n",
            "6/6 [==============================] - 0s 2ms/step - loss: 0.8209\n",
            "Epoch 88/200\n",
            "6/6 [==============================] - 0s 2ms/step - loss: 1.0238\n",
            "Epoch 89/200\n",
            "6/6 [==============================] - 0s 2ms/step - loss: 0.9313\n",
            "Epoch 90/200\n",
            "6/6 [==============================] - 0s 2ms/step - loss: 0.8087\n",
            "Epoch 91/200\n",
            "6/6 [==============================] - 0s 2ms/step - loss: 0.8636\n",
            "Epoch 92/200\n",
            "6/6 [==============================] - 0s 2ms/step - loss: 1.0507\n",
            "Epoch 93/200\n",
            "6/6 [==============================] - 0s 2ms/step - loss: 1.0338\n",
            "Epoch 94/200\n",
            "6/6 [==============================] - 0s 3ms/step - loss: 0.9245\n",
            "Epoch 95/200\n",
            "6/6 [==============================] - 0s 2ms/step - loss: 0.9096\n",
            "Epoch 96/200\n",
            "6/6 [==============================] - 0s 2ms/step - loss: 0.9353\n",
            "Epoch 97/200\n",
            "6/6 [==============================] - 0s 2ms/step - loss: 0.9726\n",
            "Epoch 98/200\n",
            "6/6 [==============================] - 0s 3ms/step - loss: 1.0814\n",
            "Epoch 99/200\n",
            "6/6 [==============================] - 0s 3ms/step - loss: 1.0093\n",
            "Epoch 100/200\n",
            "6/6 [==============================] - 0s 4ms/step - loss: 0.7771\n",
            "Epoch 101/200\n",
            "6/6 [==============================] - 0s 2ms/step - loss: 0.9092\n",
            "Epoch 102/200\n",
            "6/6 [==============================] - 0s 2ms/step - loss: 1.0608\n",
            "Epoch 103/200\n",
            "6/6 [==============================] - 0s 2ms/step - loss: 1.0180\n",
            "Epoch 104/200\n",
            "6/6 [==============================] - 0s 2ms/step - loss: 0.8703\n",
            "Epoch 105/200\n",
            "6/6 [==============================] - 0s 2ms/step - loss: 0.8187\n",
            "Epoch 106/200\n",
            "6/6 [==============================] - 0s 2ms/step - loss: 0.9224\n",
            "Epoch 107/200\n",
            "6/6 [==============================] - 0s 2ms/step - loss: 0.9994\n",
            "Epoch 108/200\n",
            "6/6 [==============================] - 0s 2ms/step - loss: 0.8144\n",
            "Epoch 109/200\n",
            "6/6 [==============================] - 0s 2ms/step - loss: 0.7769\n",
            "Epoch 110/200\n",
            "6/6 [==============================] - 0s 2ms/step - loss: 0.8169\n",
            "Epoch 111/200\n",
            "6/6 [==============================] - 0s 3ms/step - loss: 0.9810\n",
            "Epoch 112/200\n",
            "6/6 [==============================] - 0s 2ms/step - loss: 0.9662\n",
            "Epoch 113/200\n",
            "6/6 [==============================] - 0s 2ms/step - loss: 1.1028\n",
            "Epoch 114/200\n",
            "6/6 [==============================] - 0s 2ms/step - loss: 0.8156\n",
            "Epoch 115/200\n",
            "6/6 [==============================] - 0s 2ms/step - loss: 0.8581\n",
            "Epoch 116/200\n",
            "6/6 [==============================] - 0s 2ms/step - loss: 0.7951\n",
            "Epoch 117/200\n",
            "6/6 [==============================] - 0s 2ms/step - loss: 0.7419\n",
            "Epoch 118/200\n",
            "6/6 [==============================] - 0s 2ms/step - loss: 0.7477\n",
            "Epoch 119/200\n",
            "6/6 [==============================] - 0s 2ms/step - loss: 1.1059\n",
            "Epoch 120/200\n",
            "6/6 [==============================] - 0s 2ms/step - loss: 0.8575\n",
            "Epoch 121/200\n",
            "6/6 [==============================] - 0s 2ms/step - loss: 0.7855\n",
            "Epoch 122/200\n",
            "6/6 [==============================] - 0s 2ms/step - loss: 0.8282\n",
            "Epoch 123/200\n",
            "6/6 [==============================] - 0s 2ms/step - loss: 0.8492\n",
            "Epoch 124/200\n",
            "6/6 [==============================] - 0s 2ms/step - loss: 0.9038\n",
            "Epoch 125/200\n",
            "6/6 [==============================] - 0s 2ms/step - loss: 1.0010\n",
            "Epoch 126/200\n",
            "6/6 [==============================] - 0s 2ms/step - loss: 0.9140\n",
            "Epoch 127/200\n",
            "6/6 [==============================] - 0s 2ms/step - loss: 0.9005\n",
            "Epoch 128/200\n",
            "6/6 [==============================] - 0s 2ms/step - loss: 0.8559\n",
            "Epoch 129/200\n",
            "6/6 [==============================] - 0s 2ms/step - loss: 0.8360\n",
            "Epoch 130/200\n",
            "6/6 [==============================] - 0s 2ms/step - loss: 0.9533\n",
            "Epoch 131/200\n",
            "6/6 [==============================] - 0s 2ms/step - loss: 0.8641\n",
            "Epoch 132/200\n",
            "6/6 [==============================] - 0s 2ms/step - loss: 0.9195\n",
            "Epoch 133/200\n",
            "6/6 [==============================] - 0s 2ms/step - loss: 1.0925\n",
            "Epoch 134/200\n",
            "6/6 [==============================] - 0s 2ms/step - loss: 1.1075\n",
            "Epoch 135/200\n",
            "6/6 [==============================] - 0s 2ms/step - loss: 0.9067\n",
            "Epoch 136/200\n",
            "6/6 [==============================] - 0s 2ms/step - loss: 1.0610\n",
            "Epoch 137/200\n",
            "6/6 [==============================] - 0s 2ms/step - loss: 1.0214\n",
            "Epoch 138/200\n",
            "6/6 [==============================] - 0s 2ms/step - loss: 0.9379\n",
            "Epoch 139/200\n",
            "6/6 [==============================] - 0s 2ms/step - loss: 0.9584\n",
            "Epoch 140/200\n",
            "6/6 [==============================] - 0s 2ms/step - loss: 1.0657\n",
            "Epoch 141/200\n",
            "6/6 [==============================] - 0s 2ms/step - loss: 0.8981\n",
            "Epoch 142/200\n",
            "6/6 [==============================] - 0s 2ms/step - loss: 0.9374\n",
            "Epoch 143/200\n",
            "6/6 [==============================] - 0s 2ms/step - loss: 0.9843\n",
            "Epoch 144/200\n",
            "6/6 [==============================] - 0s 2ms/step - loss: 1.0183\n",
            "Epoch 145/200\n",
            "6/6 [==============================] - 0s 2ms/step - loss: 0.8557\n",
            "Epoch 146/200\n",
            "6/6 [==============================] - 0s 2ms/step - loss: 0.8156\n",
            "Epoch 147/200\n",
            "6/6 [==============================] - 0s 2ms/step - loss: 0.7634\n",
            "Epoch 148/200\n",
            "6/6 [==============================] - 0s 3ms/step - loss: 0.6963\n",
            "Epoch 149/200\n",
            "6/6 [==============================] - 0s 2ms/step - loss: 0.7308\n",
            "Epoch 150/200\n",
            "6/6 [==============================] - 0s 2ms/step - loss: 0.8168\n",
            "Epoch 151/200\n",
            "6/6 [==============================] - 0s 2ms/step - loss: 0.7574\n",
            "Epoch 152/200\n",
            "6/6 [==============================] - 0s 2ms/step - loss: 0.7490\n",
            "Epoch 153/200\n",
            "6/6 [==============================] - 0s 2ms/step - loss: 0.8484\n",
            "Epoch 154/200\n",
            "6/6 [==============================] - 0s 3ms/step - loss: 0.7662\n",
            "Epoch 155/200\n",
            "6/6 [==============================] - 0s 2ms/step - loss: 0.9329\n",
            "Epoch 156/200\n",
            "6/6 [==============================] - 0s 3ms/step - loss: 1.0236\n",
            "Epoch 157/200\n",
            "6/6 [==============================] - 0s 3ms/step - loss: 0.7437\n",
            "Epoch 158/200\n",
            "6/6 [==============================] - 0s 2ms/step - loss: 0.9359\n",
            "Epoch 159/200\n",
            "6/6 [==============================] - 0s 2ms/step - loss: 0.9484\n",
            "Epoch 160/200\n",
            "6/6 [==============================] - 0s 3ms/step - loss: 1.1290\n",
            "Epoch 161/200\n",
            "6/6 [==============================] - 0s 4ms/step - loss: 0.8100\n",
            "Epoch 162/200\n",
            "6/6 [==============================] - 0s 3ms/step - loss: 1.1024\n",
            "Epoch 163/200\n",
            "6/6 [==============================] - 0s 2ms/step - loss: 0.7301\n",
            "Epoch 164/200\n",
            "6/6 [==============================] - 0s 2ms/step - loss: 0.9944\n",
            "Epoch 165/200\n",
            "6/6 [==============================] - 0s 3ms/step - loss: 0.9850\n",
            "Epoch 166/200\n",
            "6/6 [==============================] - 0s 2ms/step - loss: 1.0495\n",
            "Epoch 167/200\n",
            "6/6 [==============================] - 0s 3ms/step - loss: 0.8630\n",
            "Epoch 168/200\n",
            "6/6 [==============================] - 0s 2ms/step - loss: 0.9290\n",
            "Epoch 169/200\n",
            "6/6 [==============================] - 0s 2ms/step - loss: 0.8100\n",
            "Epoch 170/200\n",
            "6/6 [==============================] - 0s 2ms/step - loss: 0.8905\n",
            "Epoch 171/200\n",
            "6/6 [==============================] - 0s 3ms/step - loss: 0.7631\n",
            "Epoch 172/200\n",
            "6/6 [==============================] - 0s 2ms/step - loss: 0.8544\n",
            "Epoch 173/200\n",
            "6/6 [==============================] - 0s 3ms/step - loss: 0.9421\n",
            "Epoch 174/200\n",
            "6/6 [==============================] - 0s 2ms/step - loss: 1.0288\n",
            "Epoch 175/200\n",
            "6/6 [==============================] - 0s 2ms/step - loss: 0.7713\n",
            "Epoch 176/200\n",
            "6/6 [==============================] - 0s 3ms/step - loss: 1.1014\n",
            "Epoch 177/200\n",
            "6/6 [==============================] - 0s 3ms/step - loss: 0.7592\n",
            "Epoch 178/200\n",
            "6/6 [==============================] - 0s 2ms/step - loss: 1.0065\n",
            "Epoch 179/200\n",
            "6/6 [==============================] - 0s 4ms/step - loss: 0.7644\n",
            "Epoch 180/200\n",
            "6/6 [==============================] - 0s 3ms/step - loss: 0.6827\n",
            "Epoch 181/200\n",
            "6/6 [==============================] - 0s 2ms/step - loss: 0.8274\n",
            "Epoch 182/200\n",
            "6/6 [==============================] - 0s 2ms/step - loss: 0.8742\n",
            "Epoch 183/200\n",
            "6/6 [==============================] - 0s 2ms/step - loss: 0.8141\n",
            "Epoch 184/200\n",
            "6/6 [==============================] - 0s 2ms/step - loss: 0.9831\n",
            "Epoch 185/200\n",
            "6/6 [==============================] - 0s 2ms/step - loss: 1.0000\n",
            "Epoch 186/200\n",
            "6/6 [==============================] - 0s 2ms/step - loss: 0.7315\n",
            "Epoch 187/200\n",
            "6/6 [==============================] - 0s 2ms/step - loss: 0.7441\n",
            "Epoch 188/200\n",
            "6/6 [==============================] - 0s 2ms/step - loss: 0.8528\n",
            "Epoch 189/200\n",
            "6/6 [==============================] - 0s 3ms/step - loss: 0.7948\n",
            "Epoch 190/200\n",
            "6/6 [==============================] - 0s 2ms/step - loss: 1.2187\n",
            "Epoch 191/200\n",
            "6/6 [==============================] - 0s 2ms/step - loss: 0.8684\n",
            "Epoch 192/200\n",
            "6/6 [==============================] - 0s 2ms/step - loss: 0.8431\n",
            "Epoch 193/200\n",
            "6/6 [==============================] - 0s 2ms/step - loss: 1.0214\n",
            "Epoch 194/200\n",
            "6/6 [==============================] - 0s 2ms/step - loss: 1.1604\n",
            "Epoch 195/200\n",
            "6/6 [==============================] - 0s 2ms/step - loss: 0.7425\n",
            "Epoch 196/200\n",
            "6/6 [==============================] - 0s 3ms/step - loss: 0.8292\n",
            "Epoch 197/200\n",
            "6/6 [==============================] - 0s 2ms/step - loss: 0.7876\n",
            "Epoch 198/200\n",
            "6/6 [==============================] - 0s 2ms/step - loss: 0.9922\n",
            "Epoch 199/200\n",
            "6/6 [==============================] - 0s 2ms/step - loss: 0.7246\n",
            "Epoch 200/200\n",
            "6/6 [==============================] - 0s 2ms/step - loss: 0.8330\n"
          ],
          "name": "stdout"
        }
      ]
    },
    {
      "cell_type": "code",
      "metadata": {
        "colab": {
          "base_uri": "https://localhost:8080/",
          "height": 281
        },
        "id": "qhdqt3OD74-L",
        "outputId": "d8019028-b0ee-43e2-882a-e6b6e155454b"
      },
      "source": [
        "# Plot the loss\r\n",
        "plt.plot(r.history['loss'], label='loss')"
      ],
      "execution_count": 43,
      "outputs": [
        {
          "output_type": "execute_result",
          "data": {
            "text/plain": [
              "[<matplotlib.lines.Line2D at 0x7f24c4d84710>]"
            ]
          },
          "metadata": {
            "tags": []
          },
          "execution_count": 43
        },
        {
          "output_type": "display_data",
          "data": {
            "image/png": "[encoded data removed]",
            "text/plain": [
              "<Figure size 432x288 with 1 Axes>"
            ]
          },
          "metadata": {
            "tags": [],
            "needs_background": "light"
          }
        }
      ]
    },
    {
      "cell_type": "code",
      "metadata": {
        "colab": {
          "base_uri": "https://localhost:8080/"
        },
        "id": "49olNraC8Bva",
        "outputId": "999ab93e-3199-4f13-9058-59b5b61b3e5e"
      },
      "source": [
        "print(model.layers)\r\n",
        "print(model.layers[0].get_weights())"
      ],
      "execution_count": 44,
      "outputs": [
        {
          "output_type": "stream",
          "text": [
            "[<tensorflow.python.keras.layers.core.Dense object at 0x7f24c74d3910>]\n",
            "[array([[0.336388]], dtype=float32), array([17.773594], dtype=float32)]\n"
          ],
          "name": "stdout"
        }
      ]
    },
    {
      "cell_type": "code",
      "metadata": {
        "colab": {
          "base_uri": "https://localhost:8080/"
        },
        "id": "76IjCOLQ-GCi",
        "outputId": "3fc2b771-b7b0-438e-fb22-3e1f9ac0d223"
      },
      "source": [
        "a = model.layers[0].get_weights()[0][0,0]\r\n",
        "print(a)"
      ],
      "execution_count": 46,
      "outputs": [
        {
          "output_type": "stream",
          "text": [
            "0.336388\n"
          ],
          "name": "stdout"
        }
      ]
    },
    {
      "cell_type": "code",
      "metadata": {
        "colab": {
          "base_uri": "https://localhost:8080/"
        },
        "id": "VV4Sh_Xg-QC7",
        "outputId": "c976eb4f-258c-4118-e65f-3e5297cb58a6"
      },
      "source": [
        "print(\"Time to double:\", np.log(2) / a)"
      ],
      "execution_count": 47,
      "outputs": [
        {
          "output_type": "stream",
          "text": [
            "Time to double: 2.0605586324117677\n"
          ],
          "name": "stdout"
        }
      ]
    },
    {
      "cell_type": "code",
      "metadata": {
        "colab": {
          "base_uri": "https://localhost:8080/"
        },
        "id": "NPuYbFJc_QOK",
        "outputId": "bc3431cd-6e01-4b15-9085-41a5c348ff01"
      },
      "source": [
        "# If you know the analytical solution\r\n",
        "X = np.array(X).flatten()\r\n",
        "Y = np.array(Y)\r\n",
        "denominator = X.dot(X) - X.mean() * X.sum()\r\n",
        "a = ( X.dot(Y) - Y.mean()*X.sum() ) / denominator\r\n",
        "b = ( Y.mean() * X.dot(X) - X.mean() * X.dot(Y) ) / denominator\r\n",
        "print(a, b)\r\n",
        "print(\"Time to double:\", np.log(2) / a) "
      ],
      "execution_count": 48,
      "outputs": [
        {
          "output_type": "stream",
          "text": [
            "0.341682487387313 17.764939393631764\n",
            "Time to double: 2.0286295205239204\n"
          ],
          "name": "stdout"
        }
      ]
    },
    {
      "cell_type": "code",
      "metadata": {
        "colab": {
          "base_uri": "https://localhost:8080/",
          "height": 281
        },
        "id": "1vKmGSOTLiIs",
        "outputId": "8b9e3f89-f0d2-487d-b46a-74f50674b469"
      },
      "source": [
        "# Making the line fit\r\n",
        "\r\n",
        "Yhat = model.predict(X).flatten()\r\n",
        "plt.scatter(X, Y)\r\n",
        "plt.plot(X, Yhat)"
      ],
      "execution_count": 49,
      "outputs": [
        {
          "output_type": "execute_result",
          "data": {
            "text/plain": [
              "[<matplotlib.lines.Line2D at 0x7f24c78ea650>]"
            ]
          },
          "metadata": {
            "tags": []
          },
          "execution_count": 49
        },
        {
          "output_type": "display_data",
          "data": {
            "image/png": "[encoded data removed]",
            "text/plain": [
              "<Figure size 432x288 with 1 Axes>"
            ]
          },
          "metadata": {
            "tags": [],
            "needs_background": "light"
          }
        }
      ]
    },
    {
      "cell_type": "code",
      "metadata": {
        "colab": {
          "base_uri": "https://localhost:8080/"
        },
        "id": "cUHLfD8OL9qM",
        "outputId": "8ee470a6-a57b-45b7-8d50-9c5114027f6a"
      },
      "source": [
        "# Manual calculation\r\n",
        "\r\n",
        "# Get the weights\r\n",
        "w, b = model.layers[0].get_weights()\r\n",
        "\r\n",
        "# Reshape X because it is flattened\r\n",
        "X = X.reshape(-1, 1)\r\n",
        "\r\n",
        "# (N X 1) x (1 X 1) + (1) -->  (N X 1)\r\n",
        "Yhat2 = (X.dot(w) + b).flatten()\r\n",
        "\r\n",
        "np.allclose(Yhat, Yhat2)"
      ],
      "execution_count": 50,
      "outputs": [
        {
          "output_type": "execute_result",
          "data": {
            "text/plain": [
              "True"
            ]
          },
          "metadata": {
            "tags": []
          },
          "execution_count": 50
        }
      ]
    }
  ]
}